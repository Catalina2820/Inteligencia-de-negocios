{
  "nbformat": 4,
  "nbformat_minor": 0,
  "metadata": {
    "colab": {
      "provenance": []
    },
    "kernelspec": {
      "name": "python3",
      "display_name": "Python 3"
    },
    "language_info": {
      "name": "python"
    }
  },
  "cells": [
    {
      "cell_type": "code",
      "execution_count": null,
      "metadata": {
        "id": "FALcSumFRAMG"
      },
      "outputs": [],
      "source": [
        "import pandas as pd\n",
        "import numpy as np\n",
        "import io\n",
        "from google.colab import files\n",
        "from tqdm import tqdm\n",
        "from pandas.api.types import is_numeric_dtype\n",
        "import matplotlib.pyplot as plt\n",
        "import seaborn as sn"
      ]
    },
    {
      "cell_type": "code",
      "source": [
        "upBd1 = files.upload()"
      ],
      "metadata": {
        "colab": {
          "base_uri": "https://localhost:8080/",
          "height": 73
        },
        "id": "66c9netGRHBw",
        "outputId": "0628ad82-725e-42d7-f249-0ee352b49144"
      },
      "execution_count": null,
      "outputs": [
        {
          "output_type": "display_data",
          "data": {
            "text/plain": [
              "<IPython.core.display.HTML object>"
            ],
            "text/html": [
              "\n",
              "     <input type=\"file\" id=\"files-bd913db6-0351-4dbd-ba80-beb8a191c9a6\" name=\"files[]\" multiple disabled\n",
              "        style=\"border:none\" />\n",
              "     <output id=\"result-bd913db6-0351-4dbd-ba80-beb8a191c9a6\">\n",
              "      Upload widget is only available when the cell has been executed in the\n",
              "      current browser session. Please rerun this cell to enable.\n",
              "      </output>\n",
              "      <script>// Copyright 2017 Google LLC\n",
              "//\n",
              "// Licensed under the Apache License, Version 2.0 (the \"License\");\n",
              "// you may not use this file except in compliance with the License.\n",
              "// You may obtain a copy of the License at\n",
              "//\n",
              "//      http://www.apache.org/licenses/LICENSE-2.0\n",
              "//\n",
              "// Unless required by applicable law or agreed to in writing, software\n",
              "// distributed under the License is distributed on an \"AS IS\" BASIS,\n",
              "// WITHOUT WARRANTIES OR CONDITIONS OF ANY KIND, either express or implied.\n",
              "// See the License for the specific language governing permissions and\n",
              "// limitations under the License.\n",
              "\n",
              "/**\n",
              " * @fileoverview Helpers for google.colab Python module.\n",
              " */\n",
              "(function(scope) {\n",
              "function span(text, styleAttributes = {}) {\n",
              "  const element = document.createElement('span');\n",
              "  element.textContent = text;\n",
              "  for (const key of Object.keys(styleAttributes)) {\n",
              "    element.style[key] = styleAttributes[key];\n",
              "  }\n",
              "  return element;\n",
              "}\n",
              "\n",
              "// Max number of bytes which will be uploaded at a time.\n",
              "const MAX_PAYLOAD_SIZE = 100 * 1024;\n",
              "\n",
              "function _uploadFiles(inputId, outputId) {\n",
              "  const steps = uploadFilesStep(inputId, outputId);\n",
              "  const outputElement = document.getElementById(outputId);\n",
              "  // Cache steps on the outputElement to make it available for the next call\n",
              "  // to uploadFilesContinue from Python.\n",
              "  outputElement.steps = steps;\n",
              "\n",
              "  return _uploadFilesContinue(outputId);\n",
              "}\n",
              "\n",
              "// This is roughly an async generator (not supported in the browser yet),\n",
              "// where there are multiple asynchronous steps and the Python side is going\n",
              "// to poll for completion of each step.\n",
              "// This uses a Promise to block the python side on completion of each step,\n",
              "// then passes the result of the previous step as the input to the next step.\n",
              "function _uploadFilesContinue(outputId) {\n",
              "  const outputElement = document.getElementById(outputId);\n",
              "  const steps = outputElement.steps;\n",
              "\n",
              "  const next = steps.next(outputElement.lastPromiseValue);\n",
              "  return Promise.resolve(next.value.promise).then((value) => {\n",
              "    // Cache the last promise value to make it available to the next\n",
              "    // step of the generator.\n",
              "    outputElement.lastPromiseValue = value;\n",
              "    return next.value.response;\n",
              "  });\n",
              "}\n",
              "\n",
              "/**\n",
              " * Generator function which is called between each async step of the upload\n",
              " * process.\n",
              " * @param {string} inputId Element ID of the input file picker element.\n",
              " * @param {string} outputId Element ID of the output display.\n",
              " * @return {!Iterable<!Object>} Iterable of next steps.\n",
              " */\n",
              "function* uploadFilesStep(inputId, outputId) {\n",
              "  const inputElement = document.getElementById(inputId);\n",
              "  inputElement.disabled = false;\n",
              "\n",
              "  const outputElement = document.getElementById(outputId);\n",
              "  outputElement.innerHTML = '';\n",
              "\n",
              "  const pickedPromise = new Promise((resolve) => {\n",
              "    inputElement.addEventListener('change', (e) => {\n",
              "      resolve(e.target.files);\n",
              "    });\n",
              "  });\n",
              "\n",
              "  const cancel = document.createElement('button');\n",
              "  inputElement.parentElement.appendChild(cancel);\n",
              "  cancel.textContent = 'Cancel upload';\n",
              "  const cancelPromise = new Promise((resolve) => {\n",
              "    cancel.onclick = () => {\n",
              "      resolve(null);\n",
              "    };\n",
              "  });\n",
              "\n",
              "  // Wait for the user to pick the files.\n",
              "  const files = yield {\n",
              "    promise: Promise.race([pickedPromise, cancelPromise]),\n",
              "    response: {\n",
              "      action: 'starting',\n",
              "    }\n",
              "  };\n",
              "\n",
              "  cancel.remove();\n",
              "\n",
              "  // Disable the input element since further picks are not allowed.\n",
              "  inputElement.disabled = true;\n",
              "\n",
              "  if (!files) {\n",
              "    return {\n",
              "      response: {\n",
              "        action: 'complete',\n",
              "      }\n",
              "    };\n",
              "  }\n",
              "\n",
              "  for (const file of files) {\n",
              "    const li = document.createElement('li');\n",
              "    li.append(span(file.name, {fontWeight: 'bold'}));\n",
              "    li.append(span(\n",
              "        `(${file.type || 'n/a'}) - ${file.size} bytes, ` +\n",
              "        `last modified: ${\n",
              "            file.lastModifiedDate ? file.lastModifiedDate.toLocaleDateString() :\n",
              "                                    'n/a'} - `));\n",
              "    const percent = span('0% done');\n",
              "    li.appendChild(percent);\n",
              "\n",
              "    outputElement.appendChild(li);\n",
              "\n",
              "    const fileDataPromise = new Promise((resolve) => {\n",
              "      const reader = new FileReader();\n",
              "      reader.onload = (e) => {\n",
              "        resolve(e.target.result);\n",
              "      };\n",
              "      reader.readAsArrayBuffer(file);\n",
              "    });\n",
              "    // Wait for the data to be ready.\n",
              "    let fileData = yield {\n",
              "      promise: fileDataPromise,\n",
              "      response: {\n",
              "        action: 'continue',\n",
              "      }\n",
              "    };\n",
              "\n",
              "    // Use a chunked sending to avoid message size limits. See b/62115660.\n",
              "    let position = 0;\n",
              "    do {\n",
              "      const length = Math.min(fileData.byteLength - position, MAX_PAYLOAD_SIZE);\n",
              "      const chunk = new Uint8Array(fileData, position, length);\n",
              "      position += length;\n",
              "\n",
              "      const base64 = btoa(String.fromCharCode.apply(null, chunk));\n",
              "      yield {\n",
              "        response: {\n",
              "          action: 'append',\n",
              "          file: file.name,\n",
              "          data: base64,\n",
              "        },\n",
              "      };\n",
              "\n",
              "      let percentDone = fileData.byteLength === 0 ?\n",
              "          100 :\n",
              "          Math.round((position / fileData.byteLength) * 100);\n",
              "      percent.textContent = `${percentDone}% done`;\n",
              "\n",
              "    } while (position < fileData.byteLength);\n",
              "  }\n",
              "\n",
              "  // All done.\n",
              "  yield {\n",
              "    response: {\n",
              "      action: 'complete',\n",
              "    }\n",
              "  };\n",
              "}\n",
              "\n",
              "scope.google = scope.google || {};\n",
              "scope.google.colab = scope.google.colab || {};\n",
              "scope.google.colab._files = {\n",
              "  _uploadFiles,\n",
              "  _uploadFilesContinue,\n",
              "};\n",
              "})(self);\n",
              "</script> "
            ]
          },
          "metadata": {}
        },
        {
          "output_type": "stream",
          "name": "stdout",
          "text": [
            "Saving diabetes.csv to diabetes (1).csv\n"
          ]
        }
      ]
    },
    {
      "cell_type": "code",
      "source": [
        "# Importación de los datos 2/2\n",
        "data2 = pd.read_csv(io.BytesIO(upBd1['diabetes.csv']))"
      ],
      "metadata": {
        "id": "P8j9g0o-ROd9"
      },
      "execution_count": null,
      "outputs": []
    },
    {
      "cell_type": "code",
      "source": [
        "data3 = data2 #Uso data3 para los cálculos que implican borrado y si tengo un error simplemente hago este reset"
      ],
      "metadata": {
        "id": "QsW2LcIETTcn"
      },
      "execution_count": null,
      "outputs": []
    },
    {
      "cell_type": "code",
      "source": [
        "# https://docs.google.com/spreadsheets/d/1TwxzNeIlsAdszuZq_CFXIiFkirTaICYq4QjHdyTqWfM/edit#gid=1887951615\n",
        "\n",
        "# 2. Entregue la base de datos diabetes.csv con las respectivas transformaciones:\n",
        "# -1/5 Debe calcular la media y mediana de cada una de las columnas numéricas\n",
        "# -2/5 De las columnas categóricas decir cual es el valor que más se repite\n",
        "# -3/5 Deberá borrar las columnas que tengan más del 80% de datos vacío\n",
        "# -4/5 Rellene las columnas numéricas con la media si la desviación está por debajo de 20 y con la mediana si esta por encima de 20\n",
        "# -5/5 Realice un gráfico de correlación y mencione cual es el par de variables más relacionadas"
      ],
      "metadata": {
        "id": "18k_Zg-ONke_"
      },
      "execution_count": null,
      "outputs": []
    },
    {
      "cell_type": "code",
      "source": [
        "def p31d5(df):\n",
        "  # 1/5 Debe calcular la media y mediana de cada una de las columnas numéricas\n",
        "  print('1/5 Cálculo de la media y mediana de las columnas numéricas \\n')\n",
        "\n",
        "  for i in range(0, len(df.columns)):\n",
        "    if(is_numeric_dtype(df[df.columns[i]].dtype)):\n",
        "      print(f\"Columna[{i}] {df.columns[i]} -----> Media = {df[df.columns[i]].mean()}  Mediana = {df[df.columns[i]].median()}\")\n"
      ],
      "metadata": {
        "id": "W-in1pA4cI6w"
      },
      "execution_count": null,
      "outputs": []
    },
    {
      "cell_type": "code",
      "source": [
        "p31d5(data2)"
      ],
      "metadata": {
        "colab": {
          "base_uri": "https://localhost:8080/"
        },
        "id": "r2f-Cr2kX0EB",
        "outputId": "d4305b02-fd66-4f58-f083-65407eff05cd"
      },
      "execution_count": null,
      "outputs": [
        {
          "output_type": "stream",
          "name": "stdout",
          "text": [
            "1/5 Cálculo de la media y mediana de las columnas numéricas \n",
            "\n",
            "Columna[0] Edad (años) -----> Media = 64.06984667802385  Mediana = 64.0\n",
            "Columna[2] Genero -----> Media = 1.7163543441226576  Mediana = 2.0\n",
            "Columna[5] Discapacidad -----> Media = 0.012605042016806723  Mediana = 0.0\n",
            "Columna[7] Escolaridad -----> Media = 1.717206132879046  Mediana = 2.0\n",
            "Columna[14] Clasificacion de Diabetes o del ultimo estado de Glicemia -----> Media = 1.6550255536626917  Mediana = 2.0\n",
            "Columna[17] Tension SISTOLICA -----> Media = 128.23168654173764  Mediana = 120.0\n",
            "Columna[18] Tension DIASTOLICA -----> Media = 80.95059625212947  Mediana = 80.0\n",
            "Columna[20] Colesterol Total -----> Media = 199.36967632027256  Mediana = 197.0\n",
            "Columna[21] Colesterol HDL -----> Media = 308.91561433447094  Mediana = 74.5\n",
            "Columna[22] Trigliceridos -----> Media = 198.08517887563883  Mediana = 166.0\n",
            "Columna[23] Colesterol LDL -----> Media = 697.4722222222222  Mediana = 193.0\n",
            "Columna[24] CALCULO DE RIESGO DE Framingham (% a 10 años) -----> Media = 2253529713.129472  Mediana = 1695277608.0\n",
            "Columna[26] Hemoglobina A1C -----> Media = 65.85483870967742  Mediana = 72.0\n",
            "Columna[29] Glicemia de ayuno -----> Media = 105.82735849056604  Mediana = 98.0\n",
            "Columna[30] Glicemia  Pos prandial -----> Media = 145.0  Mediana = 122.0\n",
            "Columna[31] Perimetro Abdominal -----> Media = 91.17728055077453  Mediana = 92.0\n",
            "Columna[33] Peso -----> Media = 65.25894378194208  Mediana = 64.0\n",
            "Columna[34] Talla -----> Media = 129.61413969335604  Mediana = 151.0\n",
            "Columna[35] IMC -----> Media = 27.649914821124362  Mediana = 27.0\n",
            "Columna[37] Creatinina -----> Media = 72.36354679802956  Mediana = 82.0\n",
            "Columna[38] Factor de corrección de la formula -----> Media = 60.31516183986371  Mediana = 85.0\n",
            "Columna[39] Microalbuminuria -----> Media = 117.23728813559322  Mediana = 18.5\n",
            "Columna[40] Proteinuria -----> Media = 0.45387453874538747  Mediana = 0.0\n",
            "Columna[44] Farmacos  Antihipertensivos -----> Media = 1.4666666666666666  Mediana = 1.0\n",
            "Columna[45] Acido Acetil Salicilico -----> Media = nan  Mediana = nan\n",
            "Columna[46] Estatina -----> Media = 0.19550173010380623  Mediana = 0.0\n",
            "Columna[47] Antidiabeticos -----> Media = 0.525438596491228  Mediana = 0.0\n",
            "Columna[48] Adherencia al tratamiento -----> Media = 0.9906303236797275  Mediana = 1.0\n",
            "Columna[49] Inscrito acciones colectivas, charlas, talleres… -----> Media = 1.0  Mediana = 1.0\n"
          ]
        },
        {
          "output_type": "stream",
          "name": "stderr",
          "text": [
            "/usr/local/lib/python3.9/dist-packages/numpy/lib/nanfunctions.py:1216: RuntimeWarning: Mean of empty slice\n",
            "  return np.nanmean(a, axis, out=out, keepdims=keepdims)\n"
          ]
        }
      ]
    },
    {
      "cell_type": "code",
      "source": [
        "def p32d5(df):\n",
        "  # 2/5 De las columnas categóricas decir cual es el valor que más se repite\n",
        "  print('2/5 Cálculo del dato que más se repite en las las columnas categóricas \\n')\n",
        "\n",
        "  for i in range(0, len(df.columns)):\n",
        "    if(is_numeric_dtype(df[df.columns[i]].dtype) == False):\n",
        "      print(f\"Columna[{i}] {df.columns[i]} -----> Valor que más se repite = {df[df.columns[i]].mode().values[0]}\")"
      ],
      "metadata": {
        "id": "WlI4ErD_Y2Nq"
      },
      "execution_count": null,
      "outputs": []
    },
    {
      "cell_type": "code",
      "source": [
        "p32d5(data2)"
      ],
      "metadata": {
        "colab": {
          "base_uri": "https://localhost:8080/"
        },
        "id": "R-0mbtrUaWyZ",
        "outputId": "14eb5a47-622c-485a-df49-d39dea324faf"
      },
      "execution_count": null,
      "outputs": [
        {
          "output_type": "stream",
          "name": "stdout",
          "text": [
            "2/5 Cálculo del dato que más se repite en las las columnas categóricas \n",
            "\n",
            "Columna[1] Grupo de edad -----> Valor que más se repite = 65 y mas\n",
            "Columna[3] Etnia -----> Valor que más se repite = Otra\n",
            "Columna[4] Zona -----> Valor que más se repite = Urbana\n",
            "Columna[6] Afiliacion SGSSS -----> Valor que más se repite = EMSSANAR\n",
            "Columna[8] Regimen de Afiliación -----> Valor que más se repite = SUBSIDIADO\n",
            "Columna[9] Fecha Control -----> Valor que más se repite = AUSENCIA\n",
            "Columna[10] Fumador Activo -----> Valor que más se repite = No\n",
            "Columna[11] ¿Diabetes? -----> Valor que más se repite = Si\n",
            "Columna[12] Hipertensión Arterial Sistemica -----> Valor que más se repite = Si\n",
            "Columna[13] HTA + DM -----> Valor que más se repite = Si\n",
            "Columna[15] Complicaciones  y Lesiones en Organo Blanco -----> Valor que más se repite = Ninguna\n",
            "Columna[16] Antecedentes Fliar  Enfermedad Coronaria -----> Valor que más se repite = No\n",
            "Columna[19] HTA COMPENSADOS -----> Valor que más se repite = Si\n",
            "Columna[25] Clasificación de RCV Global -----> Valor que más se repite = MUY ALTO\n",
            "Columna[27] DM COMPENSADO -----> Valor que más se repite = No\n",
            "Columna[28] HTA Y DM COMPENSADA -----> Valor que más se repite = No\n",
            "Columna[32] Clasificación perímetro abdominal -----> Valor que más se repite = Obesidad abdominal\n",
            "Columna[36] CLAIFICACION IMC -----> Valor que más se repite = Sobrepeso\n",
            "Columna[41] Calculo de  TFG corregida (Cockcroft-Gault) -----> Valor que más se repite = #¡DIV/0!\n",
            "Columna[42] Estadio IRC -----> Valor que más se repite = ERC LEVE\n",
            "Columna[43] Remisiones Especialidad -----> Valor que más se repite = Ninguna\n",
            "Columna[50] Observaciones -----> Valor que más se repite = MI\n"
          ]
        }
      ]
    },
    {
      "cell_type": "code",
      "source": [
        "def p33d5(df):\n",
        "  ## 3/5 Borra las columnas que tengan más del 80% de datos vacíos\n",
        "  print(\"3/5 Borrado de columnas que tengan más del 80% de sus datos vacíos\\n\")\n",
        "\n",
        "  col = [df.columns[x] for x in range(0, len(df.columns)) if pd.isnull(df[df.columns[x]]).values.ravel().sum() > len(df) * 0.8]\n",
        "\n",
        "  print(f\"Listado de las {len(col)} columnas a borrar:\\n {col}\")\n",
        "\n",
        "  for i in range(0, len(col)):\n",
        "    df = df.drop(col[i],axis = 1)\n",
        "  return df"
      ],
      "metadata": {
        "id": "OnXun4puex52"
      },
      "execution_count": null,
      "outputs": []
    },
    {
      "cell_type": "code",
      "source": [
        "data3 = p33d5(data3)"
      ],
      "metadata": {
        "colab": {
          "base_uri": "https://localhost:8080/"
        },
        "id": "xdZZhjXjclS0",
        "outputId": "d3fa7209-4d68-4238-a1e9-df7c86e3778d"
      },
      "execution_count": null,
      "outputs": [
        {
          "output_type": "stream",
          "name": "stdout",
          "text": [
            "3/5 Borrado de columnas que tengan más del 80% de sus datos vacíos\n",
            "\n",
            "Listado de las 5 columnas a borrar:\n",
            " ['Hemoglobina A1C', 'DM COMPENSADO', 'Glicemia  Pos prandial', 'Acido Acetil Salicilico', 'Inscrito acciones colectivas, charlas, talleres…']\n"
          ]
        }
      ]
    },
    {
      "cell_type": "code",
      "source": [
        "def p34d5(df):\n",
        "  # 4/5 Rellena las columnas numéricas con la media si la desviación está por debajo de 20 y con la mediana si esta por encima de 20\n",
        "  ####### Profe no estendí bien este punto, yo lo interpreté de esta forma: si hay datos vacíos, los debo llenar con la media si la desviación está por debajo de 20 y llenar con la mediana si la desviación esta por encima de 20\n",
        "  print('4/5 Llenado de celdas vacías de las columnas numéricas \\n Se usa la media si la desviación está por debajo de 20, se usa la mediana si la desviación esta por encima de 20')\n",
        "\n",
        "  col = [df.columns[x] for x in range(0, len(df.columns)) if is_numeric_dtype(df[df.columns[x]].dtype)] # Nombres de la columnas\n",
        "\n",
        "  medias = [df[col[x]].mean() for x in range(0, len(col))]\n",
        "  medianas = [df[col[x]].median() for x in range(0, len(col))]\n",
        "\n",
        "  for i in range(0, len(col)):\n",
        "    for j in range(0, len(df)):\n",
        "      if ( pd.isnull(df[col[i]][j]) and df[col[i]].std() < 20):\n",
        "        df[col[i]][j] = medias[i]\n",
        "      elif ( pd.isnull(df[col[i]][j]) and df[col[i]].std() > 20):\n",
        "        df[col[i]][j] = medianas[i]\n",
        "      else: continue\n"
      ],
      "metadata": {
        "id": "BK6ZwL-D6_LC"
      },
      "execution_count": null,
      "outputs": []
    },
    {
      "cell_type": "code",
      "source": [
        "def p342d5(df):\n",
        "  # 4/5 Rellena las columnas numéricas con la media si la desviación está por debajo de 20 y con la mediana si esta por encima de 20\n",
        "  ####### Profe no estendí bien este punto, yo lo interpreté de esta forma: si hay datos vacíos, los debo llenar con la media si la desviación está por debajo de 20 y llenar con la mediana si la desviación esta por encima de 20\n",
        "  print('4/5 Llenado de celdas vacías de las columnas numéricas \\n Se usa la media si la desviación está por debajo de 20, se usa la mediana si la desviación esta por encima de 20')\n",
        "\n",
        "  col = [df.columns[x] for x in range(0, len(df.columns)) if is_numeric_dtype(df[df.columns[x]].dtype)] # Nombres de la columnas\n",
        "\n",
        "  medias = [df[col[x]].mean() for x in range(0, len(col))]\n",
        "  medianas = [df[col[x]].median() for x in range(0, len(col))]\n",
        "\n",
        "  for i in range(0, len(col)):\n",
        "    for j in range(0, len(df)):\n",
        "      if ( pd.isnull(df[col[i]][j]) and df[col[i]].std() < 20):\n",
        "        df[col[i]][j] = medias[i]\n",
        "      elif ( pd.isnull(df[col[i]][j]) and df[col[i]].std() > 20):\n",
        "        df[col[i]][j] = medianas[i]\n",
        "      else: continue\n",
        "\n",
        "\n"
      ],
      "metadata": {
        "id": "_XoJnEfVadrO"
      },
      "execution_count": null,
      "outputs": []
    },
    {
      "cell_type": "code",
      "source": [
        "p34d5(data3)"
      ],
      "metadata": {
        "colab": {
          "base_uri": "https://localhost:8080/"
        },
        "id": "xmwY8ekNAoFh",
        "outputId": "fa511d23-99d0-4f65-d943-c4024b8ee194"
      },
      "execution_count": null,
      "outputs": [
        {
          "output_type": "stream",
          "name": "stdout",
          "text": [
            "4/5 Llenado de celdas vacías de las columnas numéricas \n",
            " Se usa la media si la desviación está por debajo de 20, se usa la mediana si la desviación esta por encima de 20\n"
          ]
        }
      ]
    },
    {
      "cell_type": "code",
      "source": [
        "# 5/5 1/2 Realice un gráfico de correlación\n",
        "def p351d5(df):\n",
        "  print(\"Gafico de correlación\")\n",
        "  col = [df.columns[x] for x in range(0, len(df.columns)) if is_numeric_dtype(df[df.columns[x]].dtype)] # Nombres de la columnas numéricas\n",
        "  df = df[col] # Nueva Bd con solo las conlumnas numéricas\n",
        "  plt.matshow(df.corr())"
      ],
      "metadata": {
        "id": "M3tveIcB6htH"
      },
      "execution_count": null,
      "outputs": []
    },
    {
      "cell_type": "code",
      "source": [
        "p351d5(data3)"
      ],
      "metadata": {
        "colab": {
          "base_uri": "https://localhost:8080/",
          "height": 454
        },
        "id": "9Xd8YmNtOx0h",
        "outputId": "b9579790-c23a-4f42-8faa-f5d186591c95"
      },
      "execution_count": null,
      "outputs": [
        {
          "output_type": "stream",
          "name": "stdout",
          "text": [
            "Gafico de correlación\n"
          ]
        },
        {
          "output_type": "display_data",
          "data": {
            "text/plain": [
              "<Figure size 480x480 with 1 Axes>"
            ],
            "image/png": "[encoded data removed]"
          },
          "metadata": {}
        }
      ]
    },
    {
      "cell_type": "code",
      "source": [
        "# 5/5 2/2 Mencione cual es el par de variables más relacionadas\n",
        "def p352d5(df):\n",
        "\n",
        "  col = [df.columns[x] for x in range(0, len(df.columns)) if is_numeric_dtype(df[df.columns[x]].dtype)] # Nombres de la columnas numéricas\n",
        "  df = df[col] # Nueva Bd con solo las conlumnas numéricas\n",
        "\n",
        "  #Verificación por medio de la gráfica\n",
        "  print(f\"Las columnas con mayor correlación según la gráfica de correlación son la 16 '{df.columns[16]}' y la 14 '{df.columns[14]}' del listado de columnas numéricas\\n\")\n",
        "\n",
        "  #Verificación por medio de los valores\n",
        "  print(f\"A continuación se presenta un listado oredenado de menor a mayor con los valores de las correlaciones de las columnas, lo uso para verificar lo que hice por medio del gráfico\\n\")\n",
        "  return df.corr().unstack().sort_values().drop_duplicates()\n",
        ""
      ],
      "metadata": {
        "id": "sXqf6Yl7QzA5"
      },
      "execution_count": null,
      "outputs": []
    },
    {
      "cell_type": "code",
      "source": [
        "p352d5(data3)"
      ],
      "metadata": {
        "colab": {
          "base_uri": "https://localhost:8080/"
        },
        "id": "c1dQwjHRRlyU",
        "outputId": "24127120-fba2-4d2d-d07a-d81a151d68b4"
      },
      "execution_count": null,
      "outputs": [
        {
          "output_type": "stream",
          "name": "stdout",
          "text": [
            "Las columnas con mayor correlación según la gráfica de correlación son la 16 'IMC' y la 14 'Peso' del listado de columnas numéricas\n",
            "\n",
            "A continuación se presenta un listado oredenado de menor a mayor con los valores de las correlaciones de las columnas, lo uso para verificar lo que hice por medio del gráfico\n",
            "\n"
          ]
        },
        {
          "output_type": "execute_result",
          "data": {
            "text/plain": [
              "Adherencia al tratamiento           Microalbuminuria      -0.203131\n",
              "Factor de corrección de la formula  Peso                  -0.162299\n",
              "Escolaridad                         Colesterol HDL        -0.156112\n",
              "Trigliceridos                       Edad (años)           -0.139211\n",
              "Factor de corrección de la formula  Creatinina            -0.138978\n",
              "                                                             ...   \n",
              "Peso                                Perimetro Abdominal    0.520127\n",
              "IMC                                 Perimetro Abdominal    0.526755\n",
              "Tension DIASTOLICA                  Tension SISTOLICA      0.587914\n",
              "Peso                                IMC                    0.790173\n",
              "Edad (años)                         Edad (años)            1.000000\n",
              "Length: 301, dtype: float64"
            ]
          },
          "metadata": {},
          "execution_count": 223
        }
      ]
    }
  ]
}